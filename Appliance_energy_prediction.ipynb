{
  "nbformat": 4,
  "nbformat_minor": 0,
  "metadata": {
    "colab": {
      "name": "Appliance energy prediction.ipynb",
      "provenance": [],
      "authorship_tag": "ABX9TyM2ts0SWA1/dNs+IoaTW+/S",
      "include_colab_link": true
    },
    "kernelspec": {
      "name": "python3",
      "display_name": "Python 3"
    },
    "language_info": {
      "name": "python"
    }
  },
  "cells": [
    {
      "cell_type": "markdown",
      "metadata": {
        "id": "view-in-github",
        "colab_type": "text"
      },
      "source": [
        "<a href=\"https://colab.research.google.com/github/atif2786/Appliance-energy-prediction/blob/main/Appliance_energy_prediction.ipynb\" target=\"_parent\"><img src=\"https://colab.research.google.com/assets/colab-badge.svg\" alt=\"Open In Colab\"/></a>"
      ]
    },
    {
      "cell_type": "markdown",
      "metadata": {
        "id": "cX4HPa6nj0NH"
      },
      "source": [
        "# **Regression**\n",
        "# **About the Data**\n",
        "Date: time (yr:mon:day:hr:min:sec) Appliances: energy use in Wh lights: Energy use of light fixtures in the house(Wh)\n",
        "\n",
        "T1: Temperature in kitchen area(C), RH_1: Humidity in kitchen area(%)   \n",
        "\n",
        "T2: Temperature in living room area(C), RH_2: Humidity in living room(%)  \n",
        "\n",
        "T3: Temperature in laundry room, RH_3: Humidity in laundry room area(%)   \n",
        "\n",
        "T4: Temperature in office room(C), RH_4: Humidity in office room(%)   \n",
        "\n",
        "T5: Temperature in bathroom in (C), RH_5: Humidity in bathroom(%)           \n",
        "\n",
        "T6: Temperature outside the building (north side) in (C), RH_6: Humidity outside the building (northside)%    \n",
        "\n",
        "T7: Temperature in ironing room in (C), RH_7: Humidity in ironing room in (%)  \n",
        "\n",
        "T8:Temperature in teenager room 2 in (C), RH_8: Humidity in teenager room 2 in (%)  \n",
        "\n",
        "T9: Temperature in parents room in (C), RH_9: Humidity in parents room in %\n",
        "\n",
        "To: Temperature outside (from Chievres weather station) in (C) Pressure (from Chievres weather station): in mm Hg RH_out: Humidity outside (from Chievres weather station) in (%),\n",
        "\n",
        "Wind speed (from Chievres weather station), in m/s  \n",
        "Visibility (from Chievres weather station), in km   \n",
        "Tdewpoint (from Chievres weather station), Â°C   \n",
        "rv1, Random variable 1, nondimensional   \n",
        "rv2, Random variable 2, nondimensional   \n",
        "\n",
        "Where indicated, hourly data (then interpolated) from the nearest airport weather station (Chievres Airport, Belgium) was downloaded from a public data set from Reliable Prognosis,rp5.ru. Permission was obtained from Reliable Prognosis for the distribution of the 4.5 months of weather data.\n",
        "\n"
      ]
    },
    {
      "cell_type": "markdown",
      "metadata": {
        "id": "q5gk81hVKMyf"
      },
      "source": [
        "# **Import Packages**\n",
        "# First Import necessary packages and import the dataset"
      ]
    },
    {
      "cell_type": "code",
      "metadata": {
        "id": "rQCyfRtK9y8X"
      },
      "source": [
        "import numpy as np\n",
        "import pandas as pd\n",
        "import matplotlib.pyplot as plt\n",
        "import seaborn as sns\n",
        "from sklearn.metrics import mean_squared_error\n",
        "from sklearn.metrics import r2_score\n",
        "from sklearn.metrics import mean_absolute_error\n",
        "from sklearn.model_selection import train_test_split\n",
        "from sklearn.linear_model import LinearRegression,RidgeCV, LassoCV, ElasticNetCV\n",
        "from sklearn.ensemble import RandomForestRegressor\n",
        "from sklearn.model_selection import GridSearchCV\n",
        "from sklearn.ensemble import GradientBoostingRegressor\n",
        "from sklearn.preprocessing import StandardScaler\n",
        "from sklearn.preprocessing import MinMaxScaler\n",
        "from sklearn.decomposition import PCA\n",
        "from sklearn.linear_model import Lasso\n",
        "from sklearn.linear_model import Ridge\n",
        "from sklearn.tree import DecisionTreeRegressor\n",
        "from sklearn.svm import SVR\n",
        "from sklearn.linear_model import SGDRegressor\n",
        "from sklearn.ensemble import RandomForestRegressor\n",
        "from sklearn.feature_selection import RFE\n",
        "%matplotlib inline\n",
        "sns.set(color_codes=True)\n",
        "from datetime import datetime\n"
      ],
      "execution_count": 4,
      "outputs": []
    },
    {
      "cell_type": "code",
      "metadata": {
        "colab": {
          "base_uri": "https://localhost:8080/"
        },
        "id": "2op9WzPyBJ7L",
        "outputId": "0c8355e9-c79b-40e0-bcc5-d9bed839cf3f"
      },
      "source": [
        "from google.colab import drive\n",
        "drive.mount('/content/drive')"
      ],
      "execution_count": 6,
      "outputs": [
        {
          "output_type": "stream",
          "name": "stdout",
          "text": [
            "Mounted at /content/drive\n"
          ]
        }
      ]
    },
    {
      "cell_type": "code",
      "metadata": {
        "id": "-4Cdtx11BTvi"
      },
      "source": [
        "aep = pd.read_csv('/content/drive/MyDrive/CAPSTONE ML REGRESSION/data_application_energy.csv')"
      ],
      "execution_count": 7,
      "outputs": []
    },
    {
      "cell_type": "markdown",
      "metadata": {
        "id": "dgc7yvD9LQTD"
      },
      "source": [
        "# **Data Preprocessing**"
      ]
    },
    {
      "cell_type": "code",
      "metadata": {
        "id": "4b_75PedBzDL",
        "colab": {
          "base_uri": "https://localhost:8080/",
          "height": 779
        },
        "outputId": "de06fede-6794-43c7-ec75-663108b07003"
      },
      "source": [
        "aep"
      ],
      "execution_count": 9,
      "outputs": [
        {
          "output_type": "execute_result",
          "data": {
            "text/html": [
              "<div>\n",
              "<style scoped>\n",
              "    .dataframe tbody tr th:only-of-type {\n",
              "        vertical-align: middle;\n",
              "    }\n",
              "\n",
              "    .dataframe tbody tr th {\n",
              "        vertical-align: top;\n",
              "    }\n",
              "\n",
              "    .dataframe thead th {\n",
              "        text-align: right;\n",
              "    }\n",
              "</style>\n",
              "<table border=\"1\" class=\"dataframe\">\n",
              "  <thead>\n",
              "    <tr style=\"text-align: right;\">\n",
              "      <th></th>\n",
              "      <th>date</th>\n",
              "      <th>Appliances</th>\n",
              "      <th>lights</th>\n",
              "      <th>T1</th>\n",
              "      <th>RH_1</th>\n",
              "      <th>T2</th>\n",
              "      <th>RH_2</th>\n",
              "      <th>T3</th>\n",
              "      <th>RH_3</th>\n",
              "      <th>T4</th>\n",
              "      <th>RH_4</th>\n",
              "      <th>T5</th>\n",
              "      <th>RH_5</th>\n",
              "      <th>T6</th>\n",
              "      <th>RH_6</th>\n",
              "      <th>T7</th>\n",
              "      <th>RH_7</th>\n",
              "      <th>T8</th>\n",
              "      <th>RH_8</th>\n",
              "      <th>T9</th>\n",
              "      <th>RH_9</th>\n",
              "      <th>T_out</th>\n",
              "      <th>Press_mm_hg</th>\n",
              "      <th>RH_out</th>\n",
              "      <th>Windspeed</th>\n",
              "      <th>Visibility</th>\n",
              "      <th>Tdewpoint</th>\n",
              "      <th>rv1</th>\n",
              "      <th>rv2</th>\n",
              "    </tr>\n",
              "  </thead>\n",
              "  <tbody>\n",
              "    <tr>\n",
              "      <th>0</th>\n",
              "      <td>2016-01-11 17:00:00</td>\n",
              "      <td>60</td>\n",
              "      <td>30</td>\n",
              "      <td>19.890000</td>\n",
              "      <td>47.596667</td>\n",
              "      <td>19.200000</td>\n",
              "      <td>44.790000</td>\n",
              "      <td>19.790000</td>\n",
              "      <td>44.730000</td>\n",
              "      <td>19.000000</td>\n",
              "      <td>45.566667</td>\n",
              "      <td>17.166667</td>\n",
              "      <td>55.200000</td>\n",
              "      <td>7.026667</td>\n",
              "      <td>84.256667</td>\n",
              "      <td>17.200000</td>\n",
              "      <td>41.626667</td>\n",
              "      <td>18.2000</td>\n",
              "      <td>48.900000</td>\n",
              "      <td>17.033333</td>\n",
              "      <td>45.5300</td>\n",
              "      <td>6.600000</td>\n",
              "      <td>733.5</td>\n",
              "      <td>92.000000</td>\n",
              "      <td>7.000000</td>\n",
              "      <td>63.000000</td>\n",
              "      <td>5.300000</td>\n",
              "      <td>13.275433</td>\n",
              "      <td>13.275433</td>\n",
              "    </tr>\n",
              "    <tr>\n",
              "      <th>1</th>\n",
              "      <td>2016-01-11 17:10:00</td>\n",
              "      <td>60</td>\n",
              "      <td>30</td>\n",
              "      <td>19.890000</td>\n",
              "      <td>46.693333</td>\n",
              "      <td>19.200000</td>\n",
              "      <td>44.722500</td>\n",
              "      <td>19.790000</td>\n",
              "      <td>44.790000</td>\n",
              "      <td>19.000000</td>\n",
              "      <td>45.992500</td>\n",
              "      <td>17.166667</td>\n",
              "      <td>55.200000</td>\n",
              "      <td>6.833333</td>\n",
              "      <td>84.063333</td>\n",
              "      <td>17.200000</td>\n",
              "      <td>41.560000</td>\n",
              "      <td>18.2000</td>\n",
              "      <td>48.863333</td>\n",
              "      <td>17.066667</td>\n",
              "      <td>45.5600</td>\n",
              "      <td>6.483333</td>\n",
              "      <td>733.6</td>\n",
              "      <td>92.000000</td>\n",
              "      <td>6.666667</td>\n",
              "      <td>59.166667</td>\n",
              "      <td>5.200000</td>\n",
              "      <td>18.606195</td>\n",
              "      <td>18.606195</td>\n",
              "    </tr>\n",
              "    <tr>\n",
              "      <th>2</th>\n",
              "      <td>2016-01-11 17:20:00</td>\n",
              "      <td>50</td>\n",
              "      <td>30</td>\n",
              "      <td>19.890000</td>\n",
              "      <td>46.300000</td>\n",
              "      <td>19.200000</td>\n",
              "      <td>44.626667</td>\n",
              "      <td>19.790000</td>\n",
              "      <td>44.933333</td>\n",
              "      <td>18.926667</td>\n",
              "      <td>45.890000</td>\n",
              "      <td>17.166667</td>\n",
              "      <td>55.090000</td>\n",
              "      <td>6.560000</td>\n",
              "      <td>83.156667</td>\n",
              "      <td>17.200000</td>\n",
              "      <td>41.433333</td>\n",
              "      <td>18.2000</td>\n",
              "      <td>48.730000</td>\n",
              "      <td>17.000000</td>\n",
              "      <td>45.5000</td>\n",
              "      <td>6.366667</td>\n",
              "      <td>733.7</td>\n",
              "      <td>92.000000</td>\n",
              "      <td>6.333333</td>\n",
              "      <td>55.333333</td>\n",
              "      <td>5.100000</td>\n",
              "      <td>28.642668</td>\n",
              "      <td>28.642668</td>\n",
              "    </tr>\n",
              "    <tr>\n",
              "      <th>3</th>\n",
              "      <td>2016-01-11 17:30:00</td>\n",
              "      <td>50</td>\n",
              "      <td>40</td>\n",
              "      <td>19.890000</td>\n",
              "      <td>46.066667</td>\n",
              "      <td>19.200000</td>\n",
              "      <td>44.590000</td>\n",
              "      <td>19.790000</td>\n",
              "      <td>45.000000</td>\n",
              "      <td>18.890000</td>\n",
              "      <td>45.723333</td>\n",
              "      <td>17.166667</td>\n",
              "      <td>55.090000</td>\n",
              "      <td>6.433333</td>\n",
              "      <td>83.423333</td>\n",
              "      <td>17.133333</td>\n",
              "      <td>41.290000</td>\n",
              "      <td>18.1000</td>\n",
              "      <td>48.590000</td>\n",
              "      <td>17.000000</td>\n",
              "      <td>45.4000</td>\n",
              "      <td>6.250000</td>\n",
              "      <td>733.8</td>\n",
              "      <td>92.000000</td>\n",
              "      <td>6.000000</td>\n",
              "      <td>51.500000</td>\n",
              "      <td>5.000000</td>\n",
              "      <td>45.410389</td>\n",
              "      <td>45.410389</td>\n",
              "    </tr>\n",
              "    <tr>\n",
              "      <th>4</th>\n",
              "      <td>2016-01-11 17:40:00</td>\n",
              "      <td>60</td>\n",
              "      <td>40</td>\n",
              "      <td>19.890000</td>\n",
              "      <td>46.333333</td>\n",
              "      <td>19.200000</td>\n",
              "      <td>44.530000</td>\n",
              "      <td>19.790000</td>\n",
              "      <td>45.000000</td>\n",
              "      <td>18.890000</td>\n",
              "      <td>45.530000</td>\n",
              "      <td>17.200000</td>\n",
              "      <td>55.090000</td>\n",
              "      <td>6.366667</td>\n",
              "      <td>84.893333</td>\n",
              "      <td>17.200000</td>\n",
              "      <td>41.230000</td>\n",
              "      <td>18.1000</td>\n",
              "      <td>48.590000</td>\n",
              "      <td>17.000000</td>\n",
              "      <td>45.4000</td>\n",
              "      <td>6.133333</td>\n",
              "      <td>733.9</td>\n",
              "      <td>92.000000</td>\n",
              "      <td>5.666667</td>\n",
              "      <td>47.666667</td>\n",
              "      <td>4.900000</td>\n",
              "      <td>10.084097</td>\n",
              "      <td>10.084097</td>\n",
              "    </tr>\n",
              "    <tr>\n",
              "      <th>...</th>\n",
              "      <td>...</td>\n",
              "      <td>...</td>\n",
              "      <td>...</td>\n",
              "      <td>...</td>\n",
              "      <td>...</td>\n",
              "      <td>...</td>\n",
              "      <td>...</td>\n",
              "      <td>...</td>\n",
              "      <td>...</td>\n",
              "      <td>...</td>\n",
              "      <td>...</td>\n",
              "      <td>...</td>\n",
              "      <td>...</td>\n",
              "      <td>...</td>\n",
              "      <td>...</td>\n",
              "      <td>...</td>\n",
              "      <td>...</td>\n",
              "      <td>...</td>\n",
              "      <td>...</td>\n",
              "      <td>...</td>\n",
              "      <td>...</td>\n",
              "      <td>...</td>\n",
              "      <td>...</td>\n",
              "      <td>...</td>\n",
              "      <td>...</td>\n",
              "      <td>...</td>\n",
              "      <td>...</td>\n",
              "      <td>...</td>\n",
              "      <td>...</td>\n",
              "    </tr>\n",
              "    <tr>\n",
              "      <th>19730</th>\n",
              "      <td>2016-05-27 17:20:00</td>\n",
              "      <td>100</td>\n",
              "      <td>0</td>\n",
              "      <td>25.566667</td>\n",
              "      <td>46.560000</td>\n",
              "      <td>25.890000</td>\n",
              "      <td>42.025714</td>\n",
              "      <td>27.200000</td>\n",
              "      <td>41.163333</td>\n",
              "      <td>24.700000</td>\n",
              "      <td>45.590000</td>\n",
              "      <td>23.200000</td>\n",
              "      <td>52.400000</td>\n",
              "      <td>24.796667</td>\n",
              "      <td>1.000000</td>\n",
              "      <td>24.500000</td>\n",
              "      <td>44.500000</td>\n",
              "      <td>24.7000</td>\n",
              "      <td>50.074000</td>\n",
              "      <td>23.200000</td>\n",
              "      <td>46.7900</td>\n",
              "      <td>22.733333</td>\n",
              "      <td>755.2</td>\n",
              "      <td>55.666667</td>\n",
              "      <td>3.333333</td>\n",
              "      <td>23.666667</td>\n",
              "      <td>13.333333</td>\n",
              "      <td>43.096812</td>\n",
              "      <td>43.096812</td>\n",
              "    </tr>\n",
              "    <tr>\n",
              "      <th>19731</th>\n",
              "      <td>2016-05-27 17:30:00</td>\n",
              "      <td>90</td>\n",
              "      <td>0</td>\n",
              "      <td>25.500000</td>\n",
              "      <td>46.500000</td>\n",
              "      <td>25.754000</td>\n",
              "      <td>42.080000</td>\n",
              "      <td>27.133333</td>\n",
              "      <td>41.223333</td>\n",
              "      <td>24.700000</td>\n",
              "      <td>45.590000</td>\n",
              "      <td>23.230000</td>\n",
              "      <td>52.326667</td>\n",
              "      <td>24.196667</td>\n",
              "      <td>1.000000</td>\n",
              "      <td>24.557143</td>\n",
              "      <td>44.414286</td>\n",
              "      <td>24.7000</td>\n",
              "      <td>49.790000</td>\n",
              "      <td>23.200000</td>\n",
              "      <td>46.7900</td>\n",
              "      <td>22.600000</td>\n",
              "      <td>755.2</td>\n",
              "      <td>56.000000</td>\n",
              "      <td>3.500000</td>\n",
              "      <td>24.500000</td>\n",
              "      <td>13.300000</td>\n",
              "      <td>49.282940</td>\n",
              "      <td>49.282940</td>\n",
              "    </tr>\n",
              "    <tr>\n",
              "      <th>19732</th>\n",
              "      <td>2016-05-27 17:40:00</td>\n",
              "      <td>270</td>\n",
              "      <td>10</td>\n",
              "      <td>25.500000</td>\n",
              "      <td>46.596667</td>\n",
              "      <td>25.628571</td>\n",
              "      <td>42.768571</td>\n",
              "      <td>27.050000</td>\n",
              "      <td>41.690000</td>\n",
              "      <td>24.700000</td>\n",
              "      <td>45.730000</td>\n",
              "      <td>23.230000</td>\n",
              "      <td>52.266667</td>\n",
              "      <td>23.626667</td>\n",
              "      <td>1.000000</td>\n",
              "      <td>24.540000</td>\n",
              "      <td>44.400000</td>\n",
              "      <td>24.7000</td>\n",
              "      <td>49.660000</td>\n",
              "      <td>23.200000</td>\n",
              "      <td>46.7900</td>\n",
              "      <td>22.466667</td>\n",
              "      <td>755.2</td>\n",
              "      <td>56.333333</td>\n",
              "      <td>3.666667</td>\n",
              "      <td>25.333333</td>\n",
              "      <td>13.266667</td>\n",
              "      <td>29.199117</td>\n",
              "      <td>29.199117</td>\n",
              "    </tr>\n",
              "    <tr>\n",
              "      <th>19733</th>\n",
              "      <td>2016-05-27 17:50:00</td>\n",
              "      <td>420</td>\n",
              "      <td>10</td>\n",
              "      <td>25.500000</td>\n",
              "      <td>46.990000</td>\n",
              "      <td>25.414000</td>\n",
              "      <td>43.036000</td>\n",
              "      <td>26.890000</td>\n",
              "      <td>41.290000</td>\n",
              "      <td>24.700000</td>\n",
              "      <td>45.790000</td>\n",
              "      <td>23.200000</td>\n",
              "      <td>52.200000</td>\n",
              "      <td>22.433333</td>\n",
              "      <td>1.000000</td>\n",
              "      <td>24.500000</td>\n",
              "      <td>44.295714</td>\n",
              "      <td>24.6625</td>\n",
              "      <td>49.518750</td>\n",
              "      <td>23.200000</td>\n",
              "      <td>46.8175</td>\n",
              "      <td>22.333333</td>\n",
              "      <td>755.2</td>\n",
              "      <td>56.666667</td>\n",
              "      <td>3.833333</td>\n",
              "      <td>26.166667</td>\n",
              "      <td>13.233333</td>\n",
              "      <td>6.322784</td>\n",
              "      <td>6.322784</td>\n",
              "    </tr>\n",
              "    <tr>\n",
              "      <th>19734</th>\n",
              "      <td>2016-05-27 18:00:00</td>\n",
              "      <td>430</td>\n",
              "      <td>10</td>\n",
              "      <td>25.500000</td>\n",
              "      <td>46.600000</td>\n",
              "      <td>25.264286</td>\n",
              "      <td>42.971429</td>\n",
              "      <td>26.823333</td>\n",
              "      <td>41.156667</td>\n",
              "      <td>24.700000</td>\n",
              "      <td>45.963333</td>\n",
              "      <td>23.200000</td>\n",
              "      <td>52.200000</td>\n",
              "      <td>21.026667</td>\n",
              "      <td>1.000000</td>\n",
              "      <td>24.500000</td>\n",
              "      <td>44.054000</td>\n",
              "      <td>24.7360</td>\n",
              "      <td>49.736000</td>\n",
              "      <td>23.200000</td>\n",
              "      <td>46.8450</td>\n",
              "      <td>22.200000</td>\n",
              "      <td>755.2</td>\n",
              "      <td>57.000000</td>\n",
              "      <td>4.000000</td>\n",
              "      <td>27.000000</td>\n",
              "      <td>13.200000</td>\n",
              "      <td>34.118851</td>\n",
              "      <td>34.118851</td>\n",
              "    </tr>\n",
              "  </tbody>\n",
              "</table>\n",
              "<p>19735 rows × 29 columns</p>\n",
              "</div>"
            ],
            "text/plain": [
              "                      date  Appliances  lights  ...  Tdewpoint        rv1        rv2\n",
              "0      2016-01-11 17:00:00          60      30  ...   5.300000  13.275433  13.275433\n",
              "1      2016-01-11 17:10:00          60      30  ...   5.200000  18.606195  18.606195\n",
              "2      2016-01-11 17:20:00          50      30  ...   5.100000  28.642668  28.642668\n",
              "3      2016-01-11 17:30:00          50      40  ...   5.000000  45.410389  45.410389\n",
              "4      2016-01-11 17:40:00          60      40  ...   4.900000  10.084097  10.084097\n",
              "...                    ...         ...     ...  ...        ...        ...        ...\n",
              "19730  2016-05-27 17:20:00         100       0  ...  13.333333  43.096812  43.096812\n",
              "19731  2016-05-27 17:30:00          90       0  ...  13.300000  49.282940  49.282940\n",
              "19732  2016-05-27 17:40:00         270      10  ...  13.266667  29.199117  29.199117\n",
              "19733  2016-05-27 17:50:00         420      10  ...  13.233333   6.322784   6.322784\n",
              "19734  2016-05-27 18:00:00         430      10  ...  13.200000  34.118851  34.118851\n",
              "\n",
              "[19735 rows x 29 columns]"
            ]
          },
          "metadata": {},
          "execution_count": 9
        }
      ]
    },
    {
      "cell_type": "code",
      "metadata": {
        "id": "9LaaRC1gB1Ck",
        "colab": {
          "base_uri": "https://localhost:8080/"
        },
        "outputId": "daa1e1b2-82ad-46ec-a101-a4d601216182"
      },
      "source": [
        "aep.shape"
      ],
      "execution_count": 10,
      "outputs": [
        {
          "output_type": "execute_result",
          "data": {
            "text/plain": [
              "(19735, 29)"
            ]
          },
          "metadata": {},
          "execution_count": 10
        }
      ]
    },
    {
      "cell_type": "code",
      "metadata": {
        "colab": {
          "base_uri": "https://localhost:8080/"
        },
        "id": "7gbVctdnuBTY",
        "outputId": "01a19dc9-8656-4de0-9ba5-f9225a93473d"
      },
      "source": [
        "list(aep.columns)"
      ],
      "execution_count": 11,
      "outputs": [
        {
          "output_type": "execute_result",
          "data": {
            "text/plain": [
              "['date',\n",
              " 'Appliances',\n",
              " 'lights',\n",
              " 'T1',\n",
              " 'RH_1',\n",
              " 'T2',\n",
              " 'RH_2',\n",
              " 'T3',\n",
              " 'RH_3',\n",
              " 'T4',\n",
              " 'RH_4',\n",
              " 'T5',\n",
              " 'RH_5',\n",
              " 'T6',\n",
              " 'RH_6',\n",
              " 'T7',\n",
              " 'RH_7',\n",
              " 'T8',\n",
              " 'RH_8',\n",
              " 'T9',\n",
              " 'RH_9',\n",
              " 'T_out',\n",
              " 'Press_mm_hg',\n",
              " 'RH_out',\n",
              " 'Windspeed',\n",
              " 'Visibility',\n",
              " 'Tdewpoint',\n",
              " 'rv1',\n",
              " 'rv2']"
            ]
          },
          "metadata": {},
          "execution_count": 11
        }
      ]
    },
    {
      "cell_type": "code",
      "metadata": {
        "id": "zuhONURVuFrP"
      },
      "source": [
        "aep.head()"
      ],
      "execution_count": null,
      "outputs": []
    },
    {
      "cell_type": "code",
      "metadata": {
        "id": "LJzJPFTauNqF"
      },
      "source": [
        "aep.tail()"
      ],
      "execution_count": null,
      "outputs": []
    },
    {
      "cell_type": "code",
      "metadata": {
        "id": "5qA3D90HuQCW"
      },
      "source": [
        "aep.describe()"
      ],
      "execution_count": null,
      "outputs": []
    },
    {
      "cell_type": "code",
      "metadata": {
        "id": "AUx_lCJ4uUcF"
      },
      "source": [
        "aep.dtypes"
      ],
      "execution_count": null,
      "outputs": []
    },
    {
      "cell_type": "code",
      "metadata": {
        "colab": {
          "base_uri": "https://localhost:8080/"
        },
        "id": "OBOp6Oclua_2",
        "outputId": "81444cdd-5954-4148-f970-8ed8844ecc33"
      },
      "source": [
        "aep.info()"
      ],
      "execution_count": 25,
      "outputs": [
        {
          "output_type": "stream",
          "name": "stdout",
          "text": [
            "<class 'pandas.core.frame.DataFrame'>\n",
            "Int64Index: 19735 entries, 0 to 19734\n",
            "Data columns (total 28 columns):\n",
            " #   Column       Non-Null Count  Dtype  \n",
            "---  ------       --------------  -----  \n",
            " 0   date         19735 non-null  object \n",
            " 1   Appliances   19735 non-null  int64  \n",
            " 2   T1           19735 non-null  float64\n",
            " 3   RH_1         19735 non-null  float64\n",
            " 4   T2           19735 non-null  float64\n",
            " 5   RH_2         19735 non-null  float64\n",
            " 6   T3           19735 non-null  float64\n",
            " 7   RH_3         19735 non-null  float64\n",
            " 8   T4           19735 non-null  float64\n",
            " 9   RH_4         19735 non-null  float64\n",
            " 10  T5           19735 non-null  float64\n",
            " 11  RH_5         19735 non-null  float64\n",
            " 12  T6           19735 non-null  float64\n",
            " 13  RH_6         19735 non-null  float64\n",
            " 14  T7           19735 non-null  float64\n",
            " 15  RH_7         19735 non-null  float64\n",
            " 16  T8           19735 non-null  float64\n",
            " 17  RH_8         19735 non-null  float64\n",
            " 18  T9           19735 non-null  float64\n",
            " 19  RH_9         19735 non-null  float64\n",
            " 20  T_out        19735 non-null  float64\n",
            " 21  Press_mm_hg  19735 non-null  float64\n",
            " 22  RH_out       19735 non-null  float64\n",
            " 23  Windspeed    19735 non-null  float64\n",
            " 24  Visibility   19735 non-null  float64\n",
            " 25  Tdewpoint    19735 non-null  float64\n",
            " 26  rv1          19735 non-null  float64\n",
            " 27  rv2          19735 non-null  float64\n",
            "dtypes: float64(26), int64(1), object(1)\n",
            "memory usage: 4.4+ MB\n"
          ]
        }
      ]
    },
    {
      "cell_type": "code",
      "metadata": {
        "id": "xQnhlf3qujRm"
      },
      "source": [
        "aep.count()"
      ],
      "execution_count": null,
      "outputs": []
    },
    {
      "cell_type": "code",
      "metadata": {
        "colab": {
          "base_uri": "https://localhost:8080/"
        },
        "id": "CtzGLzF5Nx0O",
        "outputId": "306cfe43-c842-47f8-f644-4c1768cdbf97"
      },
      "source": [
        "# Total number of duplicate rows persent in this data.\n",
        "\n",
        "duplicate_rows = aep[aep.duplicated()]\n",
        "print(\"Number of duplicate rows:\",duplicate_rows.shape)"
      ],
      "execution_count": 19,
      "outputs": [
        {
          "output_type": "stream",
          "name": "stdout",
          "text": [
            "Number of duplicate rows: (0, 29)\n"
          ]
        }
      ]
    },
    {
      "cell_type": "markdown",
      "metadata": {
        "id": "VZxV600EvZgH"
      },
      "source": [
        "# In this dataset there are no duplicate rows"
      ]
    },
    {
      "cell_type": "markdown",
      "metadata": {
        "id": "ImWXFQMQwASO"
      },
      "source": [
        "# **Data Preparation and Cleaning**"
      ]
    },
    {
      "cell_type": "markdown",
      "metadata": {
        "id": "ARnpl7JAMCf2"
      },
      "source": [
        "# • Dealing with Null values"
      ]
    },
    {
      "cell_type": "code",
      "metadata": {
        "colab": {
          "base_uri": "https://localhost:8080/"
        },
        "id": "Tx8TJfarwebR",
        "outputId": "e50bb87f-8f8b-4980-a984-cebcd9f19f61"
      },
      "source": [
        "# Null values \n",
        "aep.isnull().sum().sort_values(ascending=False)"
      ],
      "execution_count": 21,
      "outputs": [
        {
          "output_type": "execute_result",
          "data": {
            "text/plain": [
              "rv2            0\n",
              "T6             0\n",
              "Appliances     0\n",
              "lights         0\n",
              "T1             0\n",
              "RH_1           0\n",
              "T2             0\n",
              "RH_2           0\n",
              "T3             0\n",
              "RH_3           0\n",
              "T4             0\n",
              "RH_4           0\n",
              "T5             0\n",
              "RH_5           0\n",
              "RH_6           0\n",
              "rv1            0\n",
              "T7             0\n",
              "RH_7           0\n",
              "T8             0\n",
              "RH_8           0\n",
              "T9             0\n",
              "RH_9           0\n",
              "T_out          0\n",
              "Press_mm_hg    0\n",
              "RH_out         0\n",
              "Windspeed      0\n",
              "Visibility     0\n",
              "Tdewpoint      0\n",
              "date           0\n",
              "dtype: int64"
            ]
          },
          "metadata": {},
          "execution_count": 21
        }
      ]
    },
    {
      "cell_type": "markdown",
      "metadata": {
        "id": "Wp4GOc-sw4DR"
      },
      "source": [
        "# As you can see there are no null values."
      ]
    },
    {
      "cell_type": "code",
      "metadata": {
        "id": "5bdDOGRIxRCO"
      },
      "source": [
        "# Drop unnecessary data in dataset.\n",
        "\n",
        "aep = aep.drop(['lights'],axis=1)\n",
        "aep "
      ],
      "execution_count": null,
      "outputs": []
    },
    {
      "cell_type": "code",
      "metadata": {
        "id": "kgV3G1ozzOcz"
      },
      "source": [
        "aep = aep.dropna(axis=0)"
      ],
      "execution_count": 24,
      "outputs": []
    },
    {
      "cell_type": "markdown",
      "metadata": {
        "id": "rkMC4bM5ZCXp"
      },
      "source": [
        "# **Exploratory Data Analysis**"
      ]
    },
    {
      "cell_type": "markdown",
      "metadata": {
        "id": "VbOrYxoqZS2W"
      },
      "source": [
        "Let's move on the extract information about data and also dealing with it."
      ]
    }
  ]
}